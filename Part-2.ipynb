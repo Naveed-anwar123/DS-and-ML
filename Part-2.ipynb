{
 "cells": [
  {
   "cell_type": "code",
   "execution_count": 1,
   "metadata": {},
   "outputs": [],
   "source": [
    "import pandas as pd\n",
    "import numpy as np\n",
    "from sklearn import metrics\n",
    "pd.set_option(\"display.max_rows\", 10)\n",
    "import seaborn as sns\n",
    "%matplotlib inline  \n",
    "import matplotlib.pyplot as plt\n",
    "from sklearn.model_selection import train_test_split\n",
    "from sklearn.feature_selection import SelectPercentile\n",
    "from sklearn.model_selection import cross_val_score\n",
    "from sklearn.neighbors import KNeighborsClassifier\n",
    "from sklearn.feature_selection import RFE\n",
    "from sklearn.naive_bayes import GaussianNB,MultinomialNB,BernoulliNB\n",
    "from sklearn.linear_model import LogisticRegression,LinearRegression,Ridge\n",
    "from sklearn.feature_selection import SelectFromModel\n",
    "from sklearn.ensemble import RandomForestClassifier\n",
    "from sklearn.feature_selection import RFECV\n",
    "from sklearn.svm import SVC\n",
    "from sklearn.tree import DecisionTreeClassifier\n",
    "from sklearn.svm import SVC\n",
    "from sklearn.model_selection import StratifiedKFold\n",
    "from sklearn.metrics import confusion_matrix\n",
    "\n",
    "import imblearn\n",
    "\n",
    "from sklearn.ensemble import RandomForestClassifier\n",
    "\n",
    "from sklearn.metrics import recall_score\n",
    "from imblearn.over_sampling import SMOTE\n",
    "from imblearn.under_sampling import RandomUnderSampler\n"
   ]
  },
  {
   "cell_type": "code",
   "execution_count": 2,
   "metadata": {},
   "outputs": [],
   "source": [
    "url=\"http://kdd.ics.uci.edu/databases/tic/ticdata2000.txt\"\n",
    "train_data=pd.read_table(url,names=['Customer Subtype', 'Number of houses', 'Avg size household', 'Avg age', 'Customer main type', 'Roman catholic',\n",
    "       'Protestant', 'Other religion', 'No religion', 'Married', 'Living together', 'Other relation', 'Singles',\n",
    "       'Household without children', 'Household with children', 'High level education', 'Medium level education', 'Lower level education', 'High status',\n",
    "       'Entrepreneur', 'Farmer', 'Middle management', 'Skilled labourers', 'Unskilled labourers', 'Social class A',\n",
    "       'Social class B1', 'Social class B2', 'Social class C', 'Social class D', 'Rented house', 'Home owners', '1 car', '2 cars',\n",
    "       'No car', 'National Health Service', 'Private health insurance', 'Income < 30.000', 'Income 30-45.000', 'ncome 45-75.000',\n",
    "       'Income 75-122.000', 'Income >123.000', 'Average income', 'Purchasing power class', 'Contribution private third party insurance', 'Contribution third party insurance',\n",
    "       ' Contribution third party insurane', 'Contribution car policies', 'Contribution delivery van policies', 'Contribution motorcycle/scooter policies', 'Contribution lorry policies', 'Contribution trailer policies',\n",
    "       'Contribution tractor policies', 'Contribution agricultural machines policies', 'Contribution moped policies', 'Contribution life insurances', 'Contribution private accident insurance policies', 'Contribution family accidents insurance policies',\n",
    "       'Contribution disability insurance policies', 'Contribution fire policies', 'Contribution surfboard policies', 'Contribution boat policies', 'Contribution bicycle policies', 'Contribution property insurance policies',\n",
    "       'Contribution social security insurance policies', 'Number of private third party insurance', ' Number of third party insurance (firms)', 'Number of third party insurane (agriculture)', 'Number of car policies', 'Number of delivery van policies',\n",
    "       'Number of motorcycle/scooter policies', 'Number of lorry policies', 'Number of trailer policies', 'number of tractor policies', 'Number of agricultural machines policies', 'Number of moped policies',\n",
    "       'Number of life insurances', 'number of private accident insurance policies', ' Number of family accidents insurance policies', ' Number of disability insurance policies', 'Number of fire policies', 'Number of surfboard policies',\n",
    "       'Number of boat policies', 'Number of bicycle policies', 'Number of property insurance policies', 'Number of social security insurance policies', 'CARAVAN'])"
   ]
  },
  {
   "cell_type": "code",
   "execution_count": 3,
   "metadata": {},
   "outputs": [],
   "source": [
    "url=\"http://kdd.ics.uci.edu/databases/tic/ticeval2000.txt\"\n",
    "test_data=pd.read_table(url,names=['Customer Subtype', 'Number of houses', 'Avg size household', 'Avg age', 'Customer main type', 'Roman catholic',\n",
    "       'Protestant', 'Other religion', 'No religion', 'Married', 'Living together', 'Other relation', 'Singles',\n",
    "       'Household without children', 'Household with children', 'High level education', 'Medium level education', 'Lower level education', 'High status',\n",
    "       'Entrepreneur', 'Farmer', 'Middle management', 'Skilled labourers', 'Unskilled labourers', 'Social class A',\n",
    "       'Social class B1', 'Social class B2', 'Social class C', 'Social class D', 'Rented house', 'Home owners', '1 car', '2 cars',\n",
    "       'No car', 'National Health Service', 'Private health insurance', 'Income < 30.000', 'Income 30-45.000', 'ncome 45-75.000',\n",
    "       'Income 75-122.000', 'Income >123.000', 'Average income', 'Purchasing power class', 'Contribution private third party insurance', 'Contribution third party insurance',\n",
    "       ' Contribution third party insurane', 'Contribution car policies', 'Contribution delivery van policies', 'Contribution motorcycle/scooter policies', 'Contribution lorry policies', 'Contribution trailer policies',\n",
    "       'Contribution tractor policies', 'Contribution agricultural machines policies', 'Contribution moped policies', 'Contribution life insurances', 'Contribution private accident insurance policies', 'Contribution family accidents insurance policies',\n",
    "       'Contribution disability insurance policies', 'Contribution fire policies', 'Contribution surfboard policies', 'Contribution boat policies', 'Contribution bicycle policies', 'Contribution property insurance policies',\n",
    "       'Contribution social security insurance policies', 'Number of private third party insurance', ' Number of third party insurance (firms)', 'Number of third party insurane (agriculture)', 'Number of car policies', 'Number of delivery van policies',\n",
    "       'Number of motorcycle/scooter policies', 'Number of lorry policies', 'Number of trailer policies', 'number of tractor policies', 'Number of agricultural machines policies', 'Number of moped policies',\n",
    "       'Number of life insurances', 'number of private accident insurance policies', ' Number of family accidents insurance policies', ' Number of disability insurance policies', 'Number of fire policies', 'Number of surfboard policies',\n",
    "       'Number of boat policies', 'Number of bicycle policies', 'Number of property insurance policies', 'Number of social security insurance policies'])"
   ]
  },
  {
   "cell_type": "code",
   "execution_count": 4,
   "metadata": {},
   "outputs": [],
   "source": [
    "url=\"http://kdd.ics.uci.edu/databases/tic/tictgts2000.txt\"\n",
    "test_target = pd.read_table(url,names=['CARAVAN'])"
   ]
  },
  {
   "cell_type": "code",
   "execution_count": 5,
   "metadata": {},
   "outputs": [],
   "source": [
    "test_data.loc[:,'CARAVAN'] = test_target"
   ]
  },
  {
   "cell_type": "code",
   "execution_count": 6,
   "metadata": {},
   "outputs": [],
   "source": [
    "X_train = train_data\n",
    "y_train = train_data.CARAVAN\n",
    "X_test = test_data\n",
    "y_test = test_data.CARAVAN"
   ]
  },
  {
   "cell_type": "code",
   "execution_count": 7,
   "metadata": {},
   "outputs": [],
   "source": [
    "import matplotlib.pyplot as plt\n",
    "import itertools\n",
    "from sklearn.metrics import classification_report\n",
    "\n",
    "def pretty_print_conf_matrix(y_true, y_pred, \n",
    "                             classes,\n",
    "                             normalize=False,\n",
    "                             title='Confusion matrix',\n",
    "                             cmap=plt.cm.Blues):\n",
    "  \n",
    "    cm = confusion_matrix(y_true, y_pred)\n",
    "\n",
    "    plt.imshow(cm, interpolation='nearest', cmap=cmap)\n",
    "    plt.title(title, fontsize=14)\n",
    "    tick_marks = np.arange(len(classes))\n",
    "    plt.xticks(tick_marks, classes, rotation=45)\n",
    "    plt.yticks(tick_marks, classes)\n",
    "    plt.ylabel('True label', fontsize=12)\n",
    "    plt.xlabel('Predicted label', fontsize=12)\n",
    "\n",
    "    # Calculate normalized values (so all cells sum to 1) if desired\n",
    "    if normalize:\n",
    "        cm = np.round(cm.astype('float') / cm.sum(),2) #(axis=1)[:, np.newaxis]\n",
    "\n",
    "    # Place Numbers as Text on Confusion Matrix Plot\n",
    "    thresh = cm.max() / 2.\n",
    "    for i, j in itertools.product(range(cm.shape[0]), range(cm.shape[1])):\n",
    "        plt.text(j, i, cm[i, j],\n",
    "                 horizontalalignment=\"center\",\n",
    "                 color=\"white\" if cm[i, j] > thresh else \"black\",\n",
    "                 fontsize=12)\n",
    "\n",
    "\n",
    "    # Add Precision, Recall, F-1 Score as Captions Below Plot\n",
    "    rpt = classification_report(y_true, y_pred)\n",
    "    rpt = rpt.replace('avg / total', '      avg')\n",
    "    rpt = rpt.replace('support', 'N Obs')\n",
    "\n",
    "    plt.annotate(rpt, \n",
    "                 xy = (0,0), \n",
    "                 xytext = (-50, -140), \n",
    "                 xycoords='axes fraction', textcoords='offset points',\n",
    "                 fontsize=12, ha='left')    \n",
    "\n",
    "    # Plot\n",
    "    plt.tight_layout()\n"
   ]
  },
  {
   "cell_type": "markdown",
   "metadata": {},
   "source": []
  },
  {
   "cell_type": "markdown",
   "metadata": {},
   "source": [
    "## Random Under-sampling"
   ]
  },
  {
   "cell_type": "code",
   "execution_count": 11,
   "metadata": {},
   "outputs": [
    {
     "name": "stdout",
     "output_type": "stream",
     "text": [
      "Removed indexes: [4284  820 4115 3423  440 2598 2814 1679  614 5211 1920 3810 2774 1080\n",
      " 4562  140 1867 2206 2209 3992 4342 4572 5197 1135 4133 5521  906  428\n",
      " 4979 1407 1955 4261 2818  108  975   77 3198 5276 4530 4011 5636 2149\n",
      " 5697  567 2451 1175 2232  430 2036 2778 3542 5388  238  286 5331 3523\n",
      " 3473  146 5336 4642 5007  424 1832 3004 2773 5659 2349 2484 3600 2121\n",
      "  495 4993 1514 2385 2000  941 2978 4601 3996 4266 5550 4769 4880 5207\n",
      "  830 4044 5253 2258 2508 4411  790   46 1238 3639 1316 1189 5034    8\n",
      " 5640  290 1614 4324  556 2979  543 1824 3870 5019 3985 1212 1004 5469\n",
      " 5251 2088 4733 3397 4583  178 3769 4748 4231 1378 3451 3385 1916 1223\n",
      "  703 1276 1128  751 4451 2434 4939 5444 4991  452 5406 2308 5678 4094\n",
      " 1576 2711  229 2006 2972 2539  853 1279 2457 3842 5703 4600 2891 4701\n",
      " 1472  779 4777 3850 5309 2679 4371 3240 2760 5524   27 5810    5   16\n",
      " 3474 5326 1217 5012 4967 2574 3827 2395 3349 5301 3550 2398 5615 4462\n",
      " 3757 3295  437 1292 1752 4132 1921 3934 2776 4003 2422  137 2181 4699\n",
      " 3272 1100 4499 1505 2750 5332 3632 5685 3587 5106 5706 1183 3444 2955\n",
      "  392 1329 1374  211 3527 5269 4515 2840 5491 4982  173 1225 4023 2374\n",
      " 3195 3184 3747 3735 5392 4316 5470 1332 2382 4613   49 3949 4052 1952\n",
      "  624 2047 2642 5616 4004 4623 1668  443 2581 1023  990 5704 1198 1708\n",
      " 1555 4558 1178 5588 4672 4847 3078 2905 4271  818 4283 5299 5293 4604\n",
      "  237  737 4043 4556 2001 5813  152 5699 1017 5104 3178 1347 3033 1251\n",
      " 4720  414   50 5381  844 4568 5390   79 1384  324 4431 4392 4947 2741\n",
      " 4213 5010  868 2297  710 5688 2140 4670 3251 4510 1130 4755 3633 3102\n",
      " 3023 3459 5618 1642  102 2752 1291 3369 2172  998 4471 5643 2560 5429\n",
      " 1053 5033 2479 1942 4225 2963 1806 1412 3020 1137 4112  261 2275 4597\n",
      " 1599 1718 1589 2347 4420  520 2480  162 5572 4580 5316  462   41   45\n",
      "   57   97   98  127  149  150  174  179  194  203  226  234  235  246\n",
      "  248  253  281  297  313  318  335  336  356  400  403  426  439  444\n",
      "  480  504  510  552  560  620  626  661  669  670  684  704  762  770\n",
      "  773  799  811  815  834  837  856  857  869  871  924  937  942  957\n",
      "  980 1001 1005 1029 1060 1074 1081 1102 1118 1124 1141 1142 1197 1205\n",
      " 1216 1246 1255 1268 1269 1301 1315 1319 1328 1340 1350 1364 1369 1386\n",
      " 1387 1393 1403 1411 1479 1489 1501 1549 1553 1557 1592 1617 1618 1622\n",
      " 1623 1627 1634 1657 1662 1667 1671 1676 1699 1740 1763 1804 1839 1872\n",
      " 1877 1891 1898 1919 1923 1935 1991 2014 2027 2035 2064 2095 2098 2118\n",
      " 2141 2152 2222 2276 2286 2292 2320 2354 2437 2448 2450 2456 2494 2507\n",
      " 2528 2580 2585 2607 2630 2633 2634 2662 2664 2666 2673 2683 2744 2759\n",
      " 2762 2769 2779 2784 2791 2797 2802 2809 2813 2823 2856 2858 2878 2894\n",
      " 2896 2934 2937 2953 2981 3028 3055 3083 3088 3103 3121 3145 3171 3186\n",
      " 3208 3217 3235 3236 3241 3244 3269 3273 3274 3296 3303 3309 3360 3388\n",
      " 3461 3465 3468 3476 3488 3506 3508 3509 3517 3544 3556 3571 3597 3601\n",
      " 3626 3640 3666 3667 3703 3730 3731 3741 3753 3762 3777 3782 3790 3812\n",
      " 3822 3834 3866 3917 3950 3974 3999 4002 4027 4037 4053 4068 4072 4105\n",
      " 4145 4154 4159 4169 4178 4194 4212 4215 4234 4243 4244 4251 4289 4296\n",
      " 4312 4323 4343 4362 4364 4417 4421 4423 4443 4457 4535 4536 4584 4589\n",
      " 4606 4616 4622 4657 4698 4713 4714 4721 4729 4731 4761 4773 4789 4843\n",
      " 4881 4896 4911 4927 4942 4945 4961 4977 4978 4994 5003 5014 5028 5032\n",
      " 5039 5058 5067 5136 5137 5152 5163 5168 5170 5175 5184 5195 5216 5222\n",
      " 5224 5230 5232 5235 5275 5307 5310 5315 5320 5335 5342 5361 5369 5378\n",
      " 5395 5409 5427 5440 5442 5456 5481 5508 5523 5531 5558 5579 5631 5667\n",
      " 5702 5711 5720 5738 5740 5756 5767 5787 5797 5819]\n"
     ]
    }
   ],
   "source": [
    "rus = RandomUnderSampler(return_indices=True , random_state  = 10)\n",
    "X_rus, y_rus, id_rus = rus.fit_sample(X_train, y_train)\n",
    "print('Removed indexes:', id_rus)"
   ]
  },
  {
   "cell_type": "code",
   "execution_count": 52,
   "metadata": {},
   "outputs": [
    {
     "name": "stdout",
     "output_type": "stream",
     "text": [
      "Accuracy on training set: 0.770\n",
      "Accuracy on test set: 0.600\n",
      "Cross Validation: 0.631\n",
      "[[2234 1528]\n",
      " [  72  166]]\n"
     ]
    },
    {
     "data": {
      "image/png": "[encoded data removed]",
      "text/plain": [
       "<matplotlib.figure.Figure at 0x2f0b8fcbb38>"
      ]
     },
     "metadata": {},
     "output_type": "display_data"
    }
   ],
   "source": [
    "\n",
    "y_test , predictions\n",
    "def withRandomSampling(classifier,X_rus,y_rus):\n",
    "\n",
    "    classifier.fit(X_rus, y_rus)\n",
    "    \n",
    "    #knn.fit(train_data, train_data.CARAVAN)\n",
    "    \n",
    "    predictions=classifier.predict(X_test)\n",
    "    print(\"Accuracy on training set: {:.3f}\".format(classifier.score(X_rus, y_rus)))\n",
    "    print(\"Accuracy on test set: {:.3f}\".format(classifier.score(X_test, y_test)))\n",
    "    print (\"Cross Validation: {:.3f}\".format( cross_val_score(knn, X_rus, y_rus, cv=10, scoring='accuracy').mean() ))\n",
    "    print(metrics.confusion_matrix(y_test, predictions))\n",
    "\n",
    "\n",
    "\n",
    "withRandomSampling(KNeighborsClassifier(n_neighbors=5),X_rus,y_rus)\n",
    "\n",
    "\n",
    "pretty_print_conf_matrix(y_test, predictions, \n",
    "                             classes= ['0', '1'],\n",
    "                             normalize=True, \n",
    "                             title='Confusion Matrix')\n",
    "\n",
    "\n",
    "\n",
    "\n"
   ]
  },
  {
   "cell_type": "markdown",
   "metadata": {},
   "source": [
    "## TomekLinks"
   ]
  },
  {
   "cell_type": "code",
   "execution_count": 31,
   "metadata": {},
   "outputs": [
    {
     "name": "stdout",
     "output_type": "stream",
     "text": [
      "Removed indexes: [   0    1    2 ... 5819 5820 5821]\n"
     ]
    }
   ],
   "source": [
    "from imblearn.under_sampling import TomekLinks\n",
    "\n",
    "tl = TomekLinks(return_indices=True, ratio='majority')\n",
    "X_tl, y_tl, id_tl = tl.fit_sample(X_train, y_train)\n",
    "\n",
    "print('Removed indexes:', id_tl)\n"
   ]
  },
  {
   "cell_type": "code",
   "execution_count": 39,
   "metadata": {},
   "outputs": [
    {
     "name": "stdout",
     "output_type": "stream",
     "text": [
      "Accuracy on training set: 0.943\n",
      "Accuracy on test set: 0.936\n",
      "Cross Validation: 0.935\n",
      "[[3737   25]\n",
      " [ 229    9]]\n"
     ]
    },
    {
     "data": {
      "image/png": "[encoded data removed]",
      "text/plain": [
       "<matplotlib.figure.Figure at 0x2f0b4589ef0>"
      ]
     },
     "metadata": {},
     "output_type": "display_data"
    }
   ],
   "source": [
    "knn  = KNeighborsClassifier(n_neighbors=5)\n",
    "knn.fit(X_tl, y_tl)\n",
    "#knn.fit(train_data, train_data.CARAVAN)\n",
    "predictions=knn.predict(X_test)\n",
    "print(\"Accuracy on training set: {:.3f}\".format(knn.score(X_tl, y_tl)))\n",
    "print(\"Accuracy on test set: {:.3f}\".format(knn.score(X_test, y_test)))\n",
    "print (\"Cross Validation: {:.3f}\".format( cross_val_score(knn, X_tl, y_tl, cv=10, scoring='accuracy').mean() ))\n",
    "print(metrics.confusion_matrix(y_test, predictions))\n",
    "pretty_print_conf_matrix(y_test, predictions, \n",
    "                         classes= ['0', '1'],\n",
    "                         normalize=True, \n",
    "                         title='Confusion Matrix')\n"
   ]
  },
  {
   "cell_type": "markdown",
   "metadata": {},
   "source": [
    "## Under-sampling: Cluster Centroids"
   ]
  },
  {
   "cell_type": "code",
   "execution_count": 36,
   "metadata": {},
   "outputs": [
    {
     "name": "stdout",
     "output_type": "stream",
     "text": [
      "Accuracy on training set: 1.000\n",
      "Accuracy on test set: 0.363\n",
      "Cross Validation: 0.777\n",
      "[[1246 2516]\n",
      " [  31  207]]\n"
     ]
    },
    {
     "data": {
      "image/png": "[encoded data removed]",
      "text/plain": [
       "<matplotlib.figure.Figure at 0x2f0b3e60240>"
      ]
     },
     "metadata": {},
     "output_type": "display_data"
    }
   ],
   "source": [
    "from imblearn.under_sampling import ClusterCentroids\n",
    "\n",
    "cc = ClusterCentroids(ratio={0: 10})\n",
    "X_cc, y_cc = cc.fit_sample(X_train, y_train)\n",
    "\n",
    "knn  = KNeighborsClassifier(n_neighbors=1)\n",
    "knn.fit(X_cc, y_cc)\n",
    "#knn.fit(train_data, train_data.CARAVAN)\n",
    "predictions=knn.predict(X_test)\n",
    "print(\"Accuracy on training set: {:.3f}\".format(knn.score(X_cc, y_cc)))\n",
    "print(\"Accuracy on test set: {:.3f}\".format(knn.score(X_test, y_test)))\n",
    "print (\"Cross Validation: {:.3f}\".format( cross_val_score(knn, X_cc, y_cc, cv=10, scoring='accuracy').mean() ))\n",
    "print(metrics.confusion_matrix(y_test, predictions))\n",
    "pretty_print_conf_matrix(y_test, predictions, \n",
    "                         classes= ['0', '1'],\n",
    "                         normalize=True, \n",
    "                         title='Confusion Matrix')\n"
   ]
  },
  {
   "cell_type": "markdown",
   "metadata": {},
   "source": [
    "## Synthetic Minority Over-sampling Technique"
   ]
  },
  {
   "cell_type": "code",
   "execution_count": 55,
   "metadata": {},
   "outputs": [
    {
     "name": "stderr",
     "output_type": "stream",
     "text": [
      "C:\\Users\\Naveed Anwar\\Anaconda3\\lib\\site-packages\\sklearn\\utils\\deprecation.py:77: DeprecationWarning: Function _ratio_float is deprecated; Use a float for 'ratio' is deprecated from version 0.2. The support will be removed in 0.4. Use a dict, str, or a callable instead.\n",
      "  warnings.warn(msg, category=DeprecationWarning)\n"
     ]
    }
   ],
   "source": [
    "sm = SMOTE(random_state=12, ratio = 1.0)\n",
    "x_train_res, y_train_res = sm.fit_sample(X_train, y_train)"
   ]
  },
  {
   "cell_type": "markdown",
   "metadata": {},
   "source": [
    "## With SMOTE "
   ]
  },
  {
   "cell_type": "code",
   "execution_count": 56,
   "metadata": {},
   "outputs": [
    {
     "name": "stdout",
     "output_type": "stream",
     "text": [
      "Accuracy on training set: 0.943\n",
      "Accuracy on test set: 0.939\n",
      "[[3749   13]\n",
      " [ 232    6]]\n",
      "Cross Validation: 0.935\n",
      "Precision  0.3157894736842105\n"
     ]
    },
    {
     "data": {
      "image/png": "[encoded data removed]",
      "text/plain": [
       "<matplotlib.figure.Figure at 0x2f0b6e29470>"
      ]
     },
     "metadata": {},
     "output_type": "display_data"
    }
   ],
   "source": [
    "\n",
    "knn  = KNeighborsClassifier(n_neighbors=5)\n",
    "#knn.fit(x_train_res, y_train_res)\n",
    "knn.fit(train_data, train_data.CARAVAN)\n",
    "predictions=knn.predict(X_test)\n",
    "print(\"Accuracy on training set: {:.3f}\".format(knn.score(X_train, y_train)))\n",
    "print(\"Accuracy on test set: {:.3f}\".format(knn.score(X_test, y_test)))\n",
    "print(metrics.confusion_matrix(y_test, predictions))\n",
    "print (\"Cross Validation: {:.3f}\".format( cross_val_score(knn, X_train, y_train, cv=10, scoring='accuracy').mean() ))\n",
    "\n",
    "pretty_print_conf_matrix(y_test, predictions, \n",
    "                         classes= ['0', '1'],\n",
    "                         normalize=True, \n",
    "                         title='Confusion Matrix')\n",
    "\n",
    "print(\"Precision \" , metrics.precision_score(y_test, predictions))"
   ]
  },
  {
   "cell_type": "markdown",
   "metadata": {},
   "source": [
    "## With SMOTE "
   ]
  },
  {
   "cell_type": "code",
   "execution_count": 57,
   "metadata": {},
   "outputs": [
    {
     "name": "stdout",
     "output_type": "stream",
     "text": [
      "\n",
      "\n",
      "\n",
      " KNN\n",
      "Accuracy on training set: 0.938\n",
      "Accuracy on test set: 0.785\n",
      "Cross Validation: 0.897\n",
      "[[3039  723]\n",
      " [ 135  103]]\n",
      "\n",
      "\n",
      "\n",
      " Logistic Regression\n",
      "Accuracy on training set: 1.000\n",
      "Accuracy on test set: 1.000\n",
      "Cross Validation: 0.897\n",
      "[[3762    0]\n",
      " [   0  238]]\n",
      "\n",
      "\n",
      "\n",
      " decision tree\n",
      "Accuracy on training set: 1.000\n",
      "Accuracy on test set: 1.000\n",
      "Cross Validation: 0.897\n",
      "[[3762    0]\n",
      " [   0  238]]\n",
      "\n",
      "\n",
      "\n",
      " random forest\n",
      "Accuracy on training set: 1.000\n",
      "Accuracy on test set: 1.000\n",
      "Cross Validation: 0.897\n",
      "[[3762    0]\n",
      " [   0  238]]\n"
     ]
    },
    {
     "data": {
      "image/png": "[encoded data removed]",
      "text/plain": [
       "<matplotlib.figure.Figure at 0x2f0b8378d68>"
      ]
     },
     "metadata": {},
     "output_type": "display_data"
    }
   ],
   "source": [
    "\n",
    "y_test , predictions\n",
    "def withSampling(classifier,x_train_res,y_train_res):\n",
    "\n",
    "    classifier.fit(x_train_res, y_train_res)\n",
    "    #knn.fit(train_data, train_data.CARAVAN)\n",
    "    predictions=classifier.predict(X_test)\n",
    "    print(\"Accuracy on training set: {:.3f}\".format(classifier.score(x_train_res, y_train_res)))\n",
    "    print(\"Accuracy on test set: {:.3f}\".format(classifier.score(X_test, y_test)))\n",
    "    print (\"Cross Validation: {:.3f}\".format( cross_val_score(knn, x_train_res, y_train_res, cv=10, scoring='accuracy').mean() ))\n",
    "    print(metrics.confusion_matrix(y_test, predictions))\n",
    "\n",
    "\n",
    "\n",
    "print (\"\\n\")\n",
    "print (\"\\n KNN\")\n",
    "withSampling(KNeighborsClassifier(n_neighbors=5),x_train_res,y_train_res)\n",
    "\n",
    "print (\"\\n\")\n",
    "print (\"\\n Logistic Regression\")\n",
    "withSampling(LogisticRegression(),x_train_res,y_train_res)\n",
    "\n",
    "print (\"\\n\")\n",
    "print (\"\\n decision tree\")\n",
    "withSampling(DecisionTreeClassifier(max_depth=10, random_state=0),x_train_res,y_train_res)\n",
    "\n",
    "print (\"\\n\")\n",
    "print (\"\\n random forest\")\n",
    "withSampling(RandomForestClassifier(n_estimators=100, random_state=0),x_train_res,y_train_res)\n",
    "\n",
    "pretty_print_conf_matrix(y_test, predictions, \n",
    "                             classes= ['0', '1'],\n",
    "                             normalize=True, \n",
    "                             title='Confusion Matrix')\n"
   ]
  },
  {
   "cell_type": "code",
   "execution_count": 58,
   "metadata": {},
   "outputs": [
    {
     "name": "stdout",
     "output_type": "stream",
     "text": [
      "Accuracy on training set: 1.000\n",
      "Accuracy on test set: 1.000\n",
      "Cross Validation: 0.897\n",
      "[[3762    0]\n",
      " [   0  238]]\n"
     ]
    },
    {
     "data": {
      "image/png": "[encoded data removed]",
      "text/plain": [
       "<matplotlib.figure.Figure at 0x2f0b6f14630>"
      ]
     },
     "metadata": {},
     "output_type": "display_data"
    }
   ],
   "source": [
    "def randomforest(classifier,x_train_res,y_train_res):\n",
    "\n",
    "    classifier.fit(x_train_res, y_train_res)\n",
    "    #knn.fit(train_data, train_data.CARAVAN)\n",
    "    predictions=classifier.predict(X_test)\n",
    "    print(\"Accuracy on training set: {:.3f}\".format(classifier.score(x_train_res, y_train_res)))\n",
    "    print(\"Accuracy on test set: {:.3f}\".format(classifier.score(X_test, y_test)))\n",
    "    print (\"Cross Validation: {:.3f}\".format( cross_val_score(knn, x_train_res, y_train_res, cv=10, scoring='accuracy').mean() ))\n",
    "    print(metrics.confusion_matrix(y_test, predictions))\n",
    "    \n",
    "    pretty_print_conf_matrix(y_test, predictions, \n",
    "                                 classes= ['0', '1'],\n",
    "                                 normalize=True, \n",
    "                                 title='Confusion Matrix')    \n",
    "\n",
    "randomforest(RandomForestClassifier(n_estimators=100, random_state=0),x_train_res,y_train_res)"
   ]
  },
  {
   "cell_type": "code",
   "execution_count": null,
   "metadata": {},
   "outputs": [],
   "source": []
  }
 ],
 "metadata": {
  "kernelspec": {
   "display_name": "Python 3",
   "language": "python",
   "name": "python3"
  },
  "language_info": {
   "codemirror_mode": {
    "name": "ipython",
    "version": 3
   },
   "file_extension": ".py",
   "mimetype": "text/x-python",
   "name": "python",
   "nbconvert_exporter": "python",
   "pygments_lexer": "ipython3",
   "version": "3.6.4"
  }
 },
 "nbformat": 4,
 "nbformat_minor": 2
}
